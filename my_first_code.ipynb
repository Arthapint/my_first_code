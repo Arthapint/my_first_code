{
 "cells": [
  {
   "cell_type": "code",
   "execution_count": 1,
   "id": "8671899c",
   "metadata": {},
   "outputs": [],
   "source": [
    "# This is my first line of code."
   ]
  },
  {
   "cell_type": "code",
   "execution_count": 2,
   "id": "f3204546",
   "metadata": {},
   "outputs": [
    {
     "name": "stdout",
     "output_type": "stream",
     "text": [
      "My name is Arthur Whitley\n",
      "The date is 25/10/2023\n"
     ]
    }
   ],
   "source": [
    "print(\"My name is Arthur Whitley\")\n",
    "print(\"The date is 25/10/2023\")"
   ]
  },
  {
   "cell_type": "code",
   "execution_count": 3,
   "id": "57fba0b3",
   "metadata": {},
   "outputs": [],
   "source": [
    "# Write a program to analyse real estate data."
   ]
  },
  {
   "cell_type": "code",
   "execution_count": 4,
   "id": "de87cacd",
   "metadata": {},
   "outputs": [],
   "source": [
    "#A is property ID and corresponding number is its sales price value\n",
    "a= 45000\n",
    "b= 23400\n",
    "c= 67000\n",
    "d= 34600\n",
    "e= 12900"
   ]
  },
  {
   "cell_type": "code",
   "execution_count": 6,
   "id": "fec30683",
   "metadata": {},
   "outputs": [
    {
     "name": "stdout",
     "output_type": "stream",
     "text": [
      "45000 23400 67000 34600 12900\n"
     ]
    }
   ],
   "source": [
    "print(a,b,c,d,e)"
   ]
  },
  {
   "cell_type": "code",
   "execution_count": 9,
   "id": "7ca3a1b0",
   "metadata": {},
   "outputs": [
    {
     "name": "stdout",
     "output_type": "stream",
     "text": [
      "182900\n"
     ]
    }
   ],
   "source": [
    "#Total sales from december\n",
    "f=a+b+c+d+e\n",
    "print(f)"
   ]
  },
  {
   "cell_type": "code",
   "execution_count": 15,
   "id": "e03e4379",
   "metadata": {},
   "outputs": [
    {
     "data": {
      "text/plain": [
       "36580.0"
      ]
     },
     "execution_count": 15,
     "metadata": {},
     "output_type": "execute_result"
    }
   ],
   "source": [
    "#average sales price for december\n",
    "f / 5"
   ]
  },
  {
   "cell_type": "code",
   "execution_count": 16,
   "id": "87a7cdb8",
   "metadata": {},
   "outputs": [
    {
     "data": {
      "text/plain": [
       "60500"
      ]
     },
     "execution_count": 16,
     "metadata": {},
     "output_type": "execute_result"
    }
   ],
   "source": [
    "# property price for property c\n",
    "c - 6500"
   ]
  },
  {
   "cell_type": "code",
   "execution_count": null,
   "id": "f3738fe6",
   "metadata": {},
   "outputs": [],
   "source": []
  }
 ],
 "metadata": {
  "kernelspec": {
   "display_name": "Python 3 (ipykernel)",
   "language": "python",
   "name": "python3"
  },
  "language_info": {
   "codemirror_mode": {
    "name": "ipython",
    "version": 3
   },
   "file_extension": ".py",
   "mimetype": "text/x-python",
   "name": "python",
   "nbconvert_exporter": "python",
   "pygments_lexer": "ipython3",
   "version": "3.11.5"
  }
 },
 "nbformat": 4,
 "nbformat_minor": 5
}
